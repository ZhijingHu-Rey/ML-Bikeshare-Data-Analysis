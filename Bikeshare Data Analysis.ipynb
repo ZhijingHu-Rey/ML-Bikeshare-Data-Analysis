{
 "cells": [
  {
   "cell_type": "markdown",
   "metadata": {
    "id": "UwU-lXZEFV-4"
   },
   "source": [
    "# Homework 1: Supervised Learning 1: Lab Questions\n",
    "\n",
    "### Version 1.0\n",
    "\n"
   ]
  },
  {
   "cell_type": "markdown",
   "metadata": {
    "id": "hnRCMdPrSBw8"
   },
   "source": [
    "Zhijing Hu"
   ]
  },
  {
   "cell_type": "markdown",
   "metadata": {
    "id": "yS_0juBfFV-5"
   },
   "source": [
    "**Instructions:**\n",
    "This notebook is intended to guide you through creating and exploring your dataset. Please answer all questions in this notebook (you will see <font color='blue'>TODO</font> annotations for where to include your answers). At the beginning of each part, we will bullet the expected deliverables for you to complete. All questions can be answered in 1-4 sentences, unless otherwise noted."
   ]
  },
  {
   "cell_type": "markdown",
   "metadata": {
    "id": "pKB_9fxJFV-5"
   },
   "source": [
    "## Part 1: Defining the Problem and Choosing a Dataset\n",
    "Things to do in this part:\n",
    "1. Answer questions 1-4\n",
    "2. Identify data sources to use in your dataset\n",
    "3. List data sources used in question 5"
   ]
  },
  {
   "cell_type": "markdown",
   "metadata": {
    "id": "v-H02HwkFV-6"
   },
   "source": [
    "Your first task is to choose a problem you're interested in. You are free to choose from any domain, but it should be within the **supervised learning** paradigm. In other words, a supervised classifier should be able to generalize from a training sample of $(X,y)$ pairs to predict outcomes on unseen data $x$. We want to use machine learning, so your problem should be difficult to solve using traditional programming algorithms. \n",
    "\n",
    "For simplicity, you will construct data for a binary or multiclass classification problem, where the possible labels are given by a fixed set of choices, or for a regression task (real-valued labels). Do not build a dataset for a structured prediction task.\n"
   ]
  },
  {
   "cell_type": "markdown",
   "metadata": {
    "id": "LgcLquEUFV-7"
   },
   "source": [
    "#### 1) In one or two sentences, what are you interested in predicting given what data? This is your supervised learning problem.\n",
    "\n",
    "You should answer this question before creating your dataset, as it will provide an indication of what to search for."
   ]
  },
  {
   "cell_type": "markdown",
   "metadata": {
    "id": "SBUkGwoQFV-7"
   },
   "source": [
    "The purpose of our analysis will focus on bikeshare data analysis. Nowadays, the bikesharing become more and more popluar in amounts of cities. Predicting how specific factors (weeks, days, seasons, etc.) impact the duration of bikesharing and several factors would better help the bikeshare service to develop and improve in the near future."
   ]
  },
  {
   "cell_type": "markdown",
   "metadata": {
    "id": "uM4QYQHuFV-8"
   },
   "source": [
    "#### 2) Is this a well-defined problem? Why or why not? What ambiguities (if any) exist in your problem?\n",
    "\n",
    "Think about what challenges you solved by formulating the problem in this way."
   ]
  },
  {
   "cell_type": "markdown",
   "metadata": {
    "id": "bVz7YeaIFV-9"
   },
   "source": [
    "No, it is not a well-define problem, since we only sorting and predicting the datas but not giving the exact solutions for how to better develop the bikeshare service. As for ambiguities, from our prespective, it might be the duration of bikesharing would not be such clear for understanding before study the relationship between the used data and itself in the lab."
   ]
  },
  {
   "cell_type": "markdown",
   "metadata": {
    "id": "9jT9VG9nFV-9"
   },
   "source": [
    "#### 3) Does an easy (non-ML) solution exist for the problem? What are existing ways this problem, or a similar problem, is addressed (regardless of difficulty)?"
   ]
  },
  {
   "cell_type": "markdown",
   "metadata": {
    "id": "hQEu9DtuFV--"
   },
   "source": [
    "There is no easy solution exists for this problem. The existing ways to solve the similar problem, such as car rental, is increasing the numbers of available car in specific car rental market when meeting high demands of car renting. "
   ]
  },
  {
   "cell_type": "markdown",
   "metadata": {
    "id": "pzvM5R8eO6G0"
   },
   "source": [
    "#### 4) Why is using machine learning for this problem justified?"
   ]
  },
  {
   "cell_type": "markdown",
   "metadata": {
    "id": "DO7DUW_-PCVw"
   },
   "source": [
    "Since using machine learing could be a easy and helpful approach to handle a huge amount of user data, predict the usage of bikeshare and scope the improvement of bikeshare service in certain area."
   ]
  },
  {
   "cell_type": "markdown",
   "metadata": {
    "id": "3i70yHkXFV-_"
   },
   "source": [
    "Now, we'll turn to data we can use to actually solve your problem. You may wish to use Section 3.1 of the assignment sheet for inspiration. **Remember, you are expected to *create* a dataset, not use an existing one**.\n",
    "\n",
    "#### 5) List the sources for all data you used when creating your dataset along with (very briefly) what you obtained from it.\n",
    "\n",
    "For example: <br /> Obtained features a,b,c from http://www.domain1.com/example_data. <br /> Obtained labels from http://www.domain2.com/example_labels."
   ]
  },
  {
   "cell_type": "markdown",
   "metadata": {
    "id": "kWYNsEn3FV_A"
   },
   "source": [
    "Here is the resource link of our data: https://www.capitalbikeshare.com/system-data"
   ]
  },
  {
   "cell_type": "markdown",
   "metadata": {
    "id": "xudIDiZ0FV_A"
   },
   "source": [
    "## Part 2: What does the data look like?\n",
    "Things to do in this part:\n",
    "1. Answer questions 6-11\n",
    "2. Print a few examples of raw data (if possible) otherwise explain what the raw data looks like.\n",
    "3. Create at least 3 numerical features from your raw data\n",
    "4. Create dataset such that $X\\in\\mathbb{R}^{m\\times n}$ and $y\\in\\mathbb{R}^m$ are both numpy arrays\n",
    "5. Create 1 visual that helps you understand your data."
   ]
  },
  {
   "cell_type": "markdown",
   "metadata": {
    "id": "-upcCn1VFV_B"
   },
   "source": [
    "Let's take a look at the various data you've collected. First let's read in the raw data. You may read the data into whatever is most convenient (e.g. a list, a numpy array, a Pandas dataframe, etc.). **At this point your data will be in whatever format you downloaded them in**. For example, if you're working with text data, your data might be strings of words or collection of text documents. If you are working with image data, you might have a collection of images.\n",
    "<br /><br />\n",
    "For those of you new to working with data in Python, we have included examples of how to import the raw data. These are merely suggestions if they work for you. You don't have to use them."
   ]
  },
  {
   "cell_type": "code",
   "execution_count": 1,
   "metadata": {
    "id": "JoUhpBYFFV_B"
   },
   "outputs": [],
   "source": [
    "# # Suppose you have a directory called documents that contains Wikipedia articles, you can process these as follows:\n",
    "# # Cleaning the data (e.g. removing stop words) is not required.\n",
    "# import os\n",
    "# from collections import defaultdict\n",
    "\n",
    "# files = [f for f in os.listdir('documents') if os.path.isfile(os.path.join('documents', f))\n",
    "# X = defaultdict(list)\n",
    "# for i, file in enumerate(files[:len(files)], start=1):\n",
    "#     with open(os.path.join('documents', file)) as f:\n",
    "#         X['doc_' + str(i)] = f.readlines()\n",
    "# # X is a dictinary that maps doc_id to text.\n",
    "\n",
    "# # Suppose you have labels that are stored in a CSV file:\n",
    "# import pandas as pd\n",
    "\n",
    "# y = pd.read_csv('labels.csv')\n",
    "# # y is a Pandas dataframe that contains each label.\n",
    "\n",
    "# # Suppose you have a directory called images that contains pictures of cats, you can process them as follows:\n",
    "# from PIL import Image\n",
    "\n",
    "# images = [f for f in os.listdir('images') if os.path.isfile(os.path.join('images', f))\n",
    "# X = [Image.open(image) for image in images]\n",
    "# # X is a list of PIL Image objects\n",
    "\n",
    "#######################################################\n",
    "# TODO: Read in your raw data\n",
    "import pandas as pd\n",
    "import glob\n",
    "import os\n",
    "#bikeshare = pd.read_csv('201912-capitalbikeshare-tripdata.csv')\n",
    "\n",
    "bikeshare = pd.concat(map(pd.read_csv, glob.glob(os.path.join(r\"C:\\Users\\47637\\Desktop\\HW1\", \"capitalbikeshare-tripdata-*.csv\"))), ignore_index= True)\n",
    "\n",
    "\n",
    "X = bikeshare.loc[:, bikeshare.columns != 'Duration']\n",
    "y = bikeshare['Duration']\n",
    "#######################################################"
   ]
  },
  {
   "cell_type": "code",
   "execution_count": 2,
   "metadata": {},
   "outputs": [
    {
     "data": {
      "text/html": [
       "<div>\n",
       "<style scoped>\n",
       "    .dataframe tbody tr th:only-of-type {\n",
       "        vertical-align: middle;\n",
       "    }\n",
       "\n",
       "    .dataframe tbody tr th {\n",
       "        vertical-align: top;\n",
       "    }\n",
       "\n",
       "    .dataframe thead th {\n",
       "        text-align: right;\n",
       "    }\n",
       "</style>\n",
       "<table border=\"1\" class=\"dataframe\">\n",
       "  <thead>\n",
       "    <tr style=\"text-align: right;\">\n",
       "      <th></th>\n",
       "      <th>Duration</th>\n",
       "      <th>Start date</th>\n",
       "      <th>End date</th>\n",
       "      <th>Start station number</th>\n",
       "      <th>Start station</th>\n",
       "      <th>End station number</th>\n",
       "      <th>End station</th>\n",
       "      <th>Bike number</th>\n",
       "      <th>Member type</th>\n",
       "    </tr>\n",
       "  </thead>\n",
       "  <tbody>\n",
       "    <tr>\n",
       "      <th>0</th>\n",
       "      <td>230</td>\n",
       "      <td>2019-01-01 00:04:48</td>\n",
       "      <td>2019-01-01 00:08:39</td>\n",
       "      <td>31203</td>\n",
       "      <td>14th &amp; Rhode Island Ave NW</td>\n",
       "      <td>31200</td>\n",
       "      <td>Massachusetts Ave &amp; Dupont Circle NW</td>\n",
       "      <td>E00141</td>\n",
       "      <td>Member</td>\n",
       "    </tr>\n",
       "    <tr>\n",
       "      <th>1</th>\n",
       "      <td>1549</td>\n",
       "      <td>2019-01-01 00:06:37</td>\n",
       "      <td>2019-01-01 00:32:27</td>\n",
       "      <td>31321</td>\n",
       "      <td>15th St &amp; Constitution Ave NW</td>\n",
       "      <td>31114</td>\n",
       "      <td>18th St &amp; Wyoming Ave NW</td>\n",
       "      <td>W24067</td>\n",
       "      <td>Casual</td>\n",
       "    </tr>\n",
       "    <tr>\n",
       "      <th>2</th>\n",
       "      <td>177</td>\n",
       "      <td>2019-01-01 00:08:46</td>\n",
       "      <td>2019-01-01 00:11:44</td>\n",
       "      <td>31104</td>\n",
       "      <td>Adams Mill &amp; Columbia Rd NW</td>\n",
       "      <td>31323</td>\n",
       "      <td>Woodley Park Metro / Calvert St &amp; Connecticut ...</td>\n",
       "      <td>W22654</td>\n",
       "      <td>Casual</td>\n",
       "    </tr>\n",
       "    <tr>\n",
       "      <th>3</th>\n",
       "      <td>228</td>\n",
       "      <td>2019-01-01 00:08:47</td>\n",
       "      <td>2019-01-01 00:12:35</td>\n",
       "      <td>31281</td>\n",
       "      <td>8th &amp; O St NW</td>\n",
       "      <td>31280</td>\n",
       "      <td>11th &amp; S St NW</td>\n",
       "      <td>W22336</td>\n",
       "      <td>Member</td>\n",
       "    </tr>\n",
       "    <tr>\n",
       "      <th>4</th>\n",
       "      <td>1300</td>\n",
       "      <td>2019-01-01 00:12:29</td>\n",
       "      <td>2019-01-01 00:34:10</td>\n",
       "      <td>31014</td>\n",
       "      <td>Lynn &amp; 19th St North</td>\n",
       "      <td>31923</td>\n",
       "      <td>Columbia Pike &amp; S Taylor St</td>\n",
       "      <td>70004</td>\n",
       "      <td>Member</td>\n",
       "    </tr>\n",
       "    <tr>\n",
       "      <th>...</th>\n",
       "      <td>...</td>\n",
       "      <td>...</td>\n",
       "      <td>...</td>\n",
       "      <td>...</td>\n",
       "      <td>...</td>\n",
       "      <td>...</td>\n",
       "      <td>...</td>\n",
       "      <td>...</td>\n",
       "      <td>...</td>\n",
       "    </tr>\n",
       "    <tr>\n",
       "      <th>3398412</th>\n",
       "      <td>130</td>\n",
       "      <td>2019-12-31 23:57:36</td>\n",
       "      <td>2019-12-31 23:59:46</td>\n",
       "      <td>31011</td>\n",
       "      <td>Crystal Dr &amp; 23rd St S</td>\n",
       "      <td>31009</td>\n",
       "      <td>Crystal Dr &amp; 27th St S</td>\n",
       "      <td>W21285</td>\n",
       "      <td>Member</td>\n",
       "    </tr>\n",
       "    <tr>\n",
       "      <th>3398413</th>\n",
       "      <td>664</td>\n",
       "      <td>2019-12-31 23:57:47</td>\n",
       "      <td>2020-01-01 00:08:51</td>\n",
       "      <td>31125</td>\n",
       "      <td>15th &amp; W St NW</td>\n",
       "      <td>31281</td>\n",
       "      <td>8th &amp; O St NW</td>\n",
       "      <td>W24197</td>\n",
       "      <td>Member</td>\n",
       "    </tr>\n",
       "    <tr>\n",
       "      <th>3398414</th>\n",
       "      <td>389</td>\n",
       "      <td>2019-12-31 23:59:37</td>\n",
       "      <td>2020-01-01 00:06:06</td>\n",
       "      <td>31047</td>\n",
       "      <td>Braddock Rd Metro</td>\n",
       "      <td>31085</td>\n",
       "      <td>Mount Vernon Ave &amp; E Nelson Ave</td>\n",
       "      <td>W21281</td>\n",
       "      <td>Member</td>\n",
       "    </tr>\n",
       "    <tr>\n",
       "      <th>3398415</th>\n",
       "      <td>962</td>\n",
       "      <td>2019-12-31 23:59:38</td>\n",
       "      <td>2020-01-01 00:15:40</td>\n",
       "      <td>31236</td>\n",
       "      <td>37th &amp; O St NW / Georgetown University</td>\n",
       "      <td>31214</td>\n",
       "      <td>17th &amp; Corcoran St NW</td>\n",
       "      <td>W00534</td>\n",
       "      <td>Member</td>\n",
       "    </tr>\n",
       "    <tr>\n",
       "      <th>3398416</th>\n",
       "      <td>183</td>\n",
       "      <td>2019-12-31 23:59:55</td>\n",
       "      <td>2020-01-01 00:02:58</td>\n",
       "      <td>31227</td>\n",
       "      <td>13th St &amp; New York Ave NW</td>\n",
       "      <td>31254</td>\n",
       "      <td>15th &amp; K St NW</td>\n",
       "      <td>W22782</td>\n",
       "      <td>Member</td>\n",
       "    </tr>\n",
       "  </tbody>\n",
       "</table>\n",
       "<p>3398417 rows × 9 columns</p>\n",
       "</div>"
      ],
      "text/plain": [
       "         Duration           Start date             End date  \\\n",
       "0             230  2019-01-01 00:04:48  2019-01-01 00:08:39   \n",
       "1            1549  2019-01-01 00:06:37  2019-01-01 00:32:27   \n",
       "2             177  2019-01-01 00:08:46  2019-01-01 00:11:44   \n",
       "3             228  2019-01-01 00:08:47  2019-01-01 00:12:35   \n",
       "4            1300  2019-01-01 00:12:29  2019-01-01 00:34:10   \n",
       "...           ...                  ...                  ...   \n",
       "3398412       130  2019-12-31 23:57:36  2019-12-31 23:59:46   \n",
       "3398413       664  2019-12-31 23:57:47  2020-01-01 00:08:51   \n",
       "3398414       389  2019-12-31 23:59:37  2020-01-01 00:06:06   \n",
       "3398415       962  2019-12-31 23:59:38  2020-01-01 00:15:40   \n",
       "3398416       183  2019-12-31 23:59:55  2020-01-01 00:02:58   \n",
       "\n",
       "         Start station number                           Start station  \\\n",
       "0                       31203              14th & Rhode Island Ave NW   \n",
       "1                       31321           15th St & Constitution Ave NW   \n",
       "2                       31104             Adams Mill & Columbia Rd NW   \n",
       "3                       31281                           8th & O St NW   \n",
       "4                       31014                    Lynn & 19th St North   \n",
       "...                       ...                                     ...   \n",
       "3398412                 31011                  Crystal Dr & 23rd St S   \n",
       "3398413                 31125                          15th & W St NW   \n",
       "3398414                 31047                       Braddock Rd Metro   \n",
       "3398415                 31236  37th & O St NW / Georgetown University   \n",
       "3398416                 31227               13th St & New York Ave NW   \n",
       "\n",
       "         End station number  \\\n",
       "0                     31200   \n",
       "1                     31114   \n",
       "2                     31323   \n",
       "3                     31280   \n",
       "4                     31923   \n",
       "...                     ...   \n",
       "3398412               31009   \n",
       "3398413               31281   \n",
       "3398414               31085   \n",
       "3398415               31214   \n",
       "3398416               31254   \n",
       "\n",
       "                                               End station Bike number  \\\n",
       "0                     Massachusetts Ave & Dupont Circle NW      E00141   \n",
       "1                                 18th St & Wyoming Ave NW      W24067   \n",
       "2        Woodley Park Metro / Calvert St & Connecticut ...      W22654   \n",
       "3                                           11th & S St NW      W22336   \n",
       "4                              Columbia Pike & S Taylor St       70004   \n",
       "...                                                    ...         ...   \n",
       "3398412                             Crystal Dr & 27th St S      W21285   \n",
       "3398413                                      8th & O St NW      W24197   \n",
       "3398414                    Mount Vernon Ave & E Nelson Ave      W21281   \n",
       "3398415                              17th & Corcoran St NW      W00534   \n",
       "3398416                                     15th & K St NW      W22782   \n",
       "\n",
       "        Member type  \n",
       "0            Member  \n",
       "1            Casual  \n",
       "2            Casual  \n",
       "3            Member  \n",
       "4            Member  \n",
       "...             ...  \n",
       "3398412      Member  \n",
       "3398413      Member  \n",
       "3398414      Member  \n",
       "3398415      Member  \n",
       "3398416      Member  \n",
       "\n",
       "[3398417 rows x 9 columns]"
      ]
     },
     "execution_count": 2,
     "metadata": {},
     "output_type": "execute_result"
    }
   ],
   "source": [
    "bikeshare"
   ]
  },
  {
   "cell_type": "markdown",
   "metadata": {
    "id": "OTyyXMhtFV_F"
   },
   "source": [
    "Now, let's print a few examples. Depending on your data format, you may have to write this yourself. We have provided some examples below."
   ]
  },
  {
   "cell_type": "code",
   "execution_count": 3,
   "metadata": {
    "id": "EygmSPFnFV_F"
   },
   "outputs": [
    {
     "name": "stdout",
     "output_type": "stream",
     "text": [
      "X:             Start date             End date  Start station number  \\\n",
      "0  2019-01-01 00:04:48  2019-01-01 00:08:39                 31203   \n",
      "1  2019-01-01 00:06:37  2019-01-01 00:32:27                 31321   \n",
      "2  2019-01-01 00:08:46  2019-01-01 00:11:44                 31104   \n",
      "3  2019-01-01 00:08:47  2019-01-01 00:12:35                 31281   \n",
      "4  2019-01-01 00:12:29  2019-01-01 00:34:10                 31014   \n",
      "\n",
      "                   Start station  End station number  \\\n",
      "0     14th & Rhode Island Ave NW               31200   \n",
      "1  15th St & Constitution Ave NW               31114   \n",
      "2    Adams Mill & Columbia Rd NW               31323   \n",
      "3                  8th & O St NW               31280   \n",
      "4           Lynn & 19th St North               31923   \n",
      "\n",
      "                                         End station Bike number Member type  \n",
      "0               Massachusetts Ave & Dupont Circle NW      E00141      Member  \n",
      "1                           18th St & Wyoming Ave NW      W24067      Casual  \n",
      "2  Woodley Park Metro / Calvert St & Connecticut ...      W22654      Casual  \n",
      "3                                     11th & S St NW      W22336      Member  \n",
      "4                        Columbia Pike & S Taylor St       70004      Member  \n",
      "y: 0     230\n",
      "1    1549\n",
      "2     177\n",
      "3     228\n",
      "4    1300\n",
      "Name: Duration, dtype: int64\n"
     ]
    }
   ],
   "source": [
    "#######################################################\n",
    "# TODO: print out what a few examples of your raw data.\n",
    "print('X:', X[:5])\n",
    "print('y:', y[:5])\n",
    "#######################################################"
   ]
  },
  {
   "cell_type": "markdown",
   "metadata": {
    "id": "_O9OGkeHOW0V"
   },
   "source": [
    "#### (Optional) If your raw data format can't be displayed in a Jupyter notebook (e.g. video or audio files), you may skip the above step. You should still look at the raw data in whatever way possibly, but instead just describe what the raw data is that you look at."
   ]
  },
  {
   "cell_type": "markdown",
   "metadata": {
    "id": "6LrYreKhFV_I"
   },
   "source": [
    "#### 6) What information is contained in each example (row) in $X$? These are your raw data features."
   ]
  },
  {
   "cell_type": "markdown",
   "metadata": {
    "id": "Q9_MNK-1FV_I"
   },
   "source": [
    "- Duration – Duration of trip\n",
    "- Start Date – Includes start date and time\n",
    "- End Date – Includes end date and time\n",
    "- Start Station number – the station number when the user starts trip\n",
    "- Start Station - the station name when the user starts trip\n",
    "- End Station number – the station number when the user ends trip\n",
    "- End Station  – the station  when the user ends trip\n",
    "- Bike Number – Includes ID number of bike used for the trip\n",
    "- Member Type – Indicates whether user was a \"registered\" member (Annual Member, 30-Day Member or Day Key Member) or a \"casual\" rider (Single Trip, 24-Hour Pass, 3-Day Pass or 5-Day Pass)"
   ]
  },
  {
   "cell_type": "code",
   "execution_count": 4,
   "metadata": {},
   "outputs": [
    {
     "data": {
      "text/plain": [
       "Duration                 int64\n",
       "Start date              object\n",
       "End date                object\n",
       "Start station number     int64\n",
       "Start station           object\n",
       "End station number       int64\n",
       "End station             object\n",
       "Bike number             object\n",
       "Member type             object\n",
       "dtype: object"
      ]
     },
     "execution_count": 4,
     "metadata": {},
     "output_type": "execute_result"
    }
   ],
   "source": [
    "bikeshare.dtypes"
   ]
  },
  {
   "cell_type": "markdown",
   "metadata": {
    "id": "nnloVU9iFV_J"
   },
   "source": [
    "If your data is not numerical, this will be difficult for an algorithm to learn directly. So, now that you've seen what the raw data looks like, you will start extracting *numerical* features from the raw data.\n",
    "<br /><br />\n",
    "We obtain features through a process called **feature engineering**. Features may be derived from the existing raw data or may come from other data sources that can be associated with each example. This is a challenging task that often requires domain knowledge about the problem you are trying to solve. \n",
    "<br /><br />\n",
    "While very important in dataset creation, feature engineering is not the focus of this assignment. You will need some features for the other steps, but these can be very simple and don't need to rely on domain knowledge.\n",
    "<br /><br />\n",
    "**You will need to add at least 3 features to your dataset**. If your data is Wikipedia documents, possible features could be number of sentences, word count, the words that appear in the article, number of document revisions, number of contributing authors, number of references, etc. Notice that some of these features could be derived from the raw data (i.e. the words) while others may need to be downloaded separately (i.e. page metadata). If your data are cat images, your features could be focus measure (i.e. blurriness/sharpness) using OpenCV Variance of Laplacian, whether image is grayscale, number of pixels, the pixel color values, etc.\n",
    "<br /><br />\n",
    "You are free to obtain features in any way you like as long as you can justify why the features your propose should help solve the problem you've defined.\n",
    "<br /><br />\n",
    "We'll provide some examples of what we're looking for. We are not expecting anything fancy for this step."
   ]
  },
  {
   "cell_type": "code",
   "execution_count": 5,
   "metadata": {
    "id": "Qf0HOYw8FV_K"
   },
   "outputs": [
    {
     "data": {
      "text/plain": [
       "Member    2957256\n",
       "Casual     441161\n",
       "Name: Member type, dtype: int64"
      ]
     },
     "execution_count": 5,
     "metadata": {},
     "output_type": "execute_result"
    }
   ],
   "source": [
    "#######################################################\n",
    "# TODO: compute features for each example\n",
    "#######################################################\n",
    "#member type\n",
    "bikeshare['Member type'].value_counts()"
   ]
  },
  {
   "cell_type": "code",
   "execution_count": 6,
   "metadata": {},
   "outputs": [
    {
     "data": {
      "text/html": [
       "<div>\n",
       "<style scoped>\n",
       "    .dataframe tbody tr th:only-of-type {\n",
       "        vertical-align: middle;\n",
       "    }\n",
       "\n",
       "    .dataframe tbody tr th {\n",
       "        vertical-align: top;\n",
       "    }\n",
       "\n",
       "    .dataframe thead th {\n",
       "        text-align: right;\n",
       "    }\n",
       "</style>\n",
       "<table border=\"1\" class=\"dataframe\">\n",
       "  <thead>\n",
       "    <tr style=\"text-align: right;\">\n",
       "      <th></th>\n",
       "      <th>Duration</th>\n",
       "      <th>Start date</th>\n",
       "      <th>End date</th>\n",
       "      <th>Start station number</th>\n",
       "      <th>Start station</th>\n",
       "      <th>End station number</th>\n",
       "      <th>End station</th>\n",
       "      <th>Bike number</th>\n",
       "      <th>Member type</th>\n",
       "    </tr>\n",
       "  </thead>\n",
       "  <tbody>\n",
       "    <tr>\n",
       "      <th>0</th>\n",
       "      <td>230</td>\n",
       "      <td>2019-01-01 00:04:48</td>\n",
       "      <td>2019-01-01 00:08:39</td>\n",
       "      <td>31203</td>\n",
       "      <td>14th &amp; Rhode Island Ave NW</td>\n",
       "      <td>31200</td>\n",
       "      <td>Massachusetts Ave &amp; Dupont Circle NW</td>\n",
       "      <td>E00141</td>\n",
       "      <td>1</td>\n",
       "    </tr>\n",
       "    <tr>\n",
       "      <th>1</th>\n",
       "      <td>1549</td>\n",
       "      <td>2019-01-01 00:06:37</td>\n",
       "      <td>2019-01-01 00:32:27</td>\n",
       "      <td>31321</td>\n",
       "      <td>15th St &amp; Constitution Ave NW</td>\n",
       "      <td>31114</td>\n",
       "      <td>18th St &amp; Wyoming Ave NW</td>\n",
       "      <td>W24067</td>\n",
       "      <td>0</td>\n",
       "    </tr>\n",
       "    <tr>\n",
       "      <th>2</th>\n",
       "      <td>177</td>\n",
       "      <td>2019-01-01 00:08:46</td>\n",
       "      <td>2019-01-01 00:11:44</td>\n",
       "      <td>31104</td>\n",
       "      <td>Adams Mill &amp; Columbia Rd NW</td>\n",
       "      <td>31323</td>\n",
       "      <td>Woodley Park Metro / Calvert St &amp; Connecticut ...</td>\n",
       "      <td>W22654</td>\n",
       "      <td>0</td>\n",
       "    </tr>\n",
       "    <tr>\n",
       "      <th>3</th>\n",
       "      <td>228</td>\n",
       "      <td>2019-01-01 00:08:47</td>\n",
       "      <td>2019-01-01 00:12:35</td>\n",
       "      <td>31281</td>\n",
       "      <td>8th &amp; O St NW</td>\n",
       "      <td>31280</td>\n",
       "      <td>11th &amp; S St NW</td>\n",
       "      <td>W22336</td>\n",
       "      <td>1</td>\n",
       "    </tr>\n",
       "    <tr>\n",
       "      <th>4</th>\n",
       "      <td>1300</td>\n",
       "      <td>2019-01-01 00:12:29</td>\n",
       "      <td>2019-01-01 00:34:10</td>\n",
       "      <td>31014</td>\n",
       "      <td>Lynn &amp; 19th St North</td>\n",
       "      <td>31923</td>\n",
       "      <td>Columbia Pike &amp; S Taylor St</td>\n",
       "      <td>70004</td>\n",
       "      <td>1</td>\n",
       "    </tr>\n",
       "  </tbody>\n",
       "</table>\n",
       "</div>"
      ],
      "text/plain": [
       "   Duration           Start date             End date  Start station number  \\\n",
       "0       230  2019-01-01 00:04:48  2019-01-01 00:08:39                 31203   \n",
       "1      1549  2019-01-01 00:06:37  2019-01-01 00:32:27                 31321   \n",
       "2       177  2019-01-01 00:08:46  2019-01-01 00:11:44                 31104   \n",
       "3       228  2019-01-01 00:08:47  2019-01-01 00:12:35                 31281   \n",
       "4      1300  2019-01-01 00:12:29  2019-01-01 00:34:10                 31014   \n",
       "\n",
       "                   Start station  End station number  \\\n",
       "0     14th & Rhode Island Ave NW               31200   \n",
       "1  15th St & Constitution Ave NW               31114   \n",
       "2    Adams Mill & Columbia Rd NW               31323   \n",
       "3                  8th & O St NW               31280   \n",
       "4           Lynn & 19th St North               31923   \n",
       "\n",
       "                                         End station Bike number  Member type  \n",
       "0               Massachusetts Ave & Dupont Circle NW      E00141            1  \n",
       "1                           18th St & Wyoming Ave NW      W24067            0  \n",
       "2  Woodley Park Metro / Calvert St & Connecticut ...      W22654            0  \n",
       "3                                     11th & S St NW      W22336            1  \n",
       "4                        Columbia Pike & S Taylor St       70004            1  "
      ]
     },
     "execution_count": 6,
     "metadata": {},
     "output_type": "execute_result"
    }
   ],
   "source": [
    "cleanup_nums = {\"Member type\": {\"Member\": 1 , \"Casual\": 0 }}\n",
    "bikeshare = bikeshare.replace(cleanup_nums)\n",
    "bikeshare.head()"
   ]
  },
  {
   "cell_type": "code",
   "execution_count": 7,
   "metadata": {},
   "outputs": [
    {
     "data": {
      "text/html": [
       "<div>\n",
       "<style scoped>\n",
       "    .dataframe tbody tr th:only-of-type {\n",
       "        vertical-align: middle;\n",
       "    }\n",
       "\n",
       "    .dataframe tbody tr th {\n",
       "        vertical-align: top;\n",
       "    }\n",
       "\n",
       "    .dataframe thead th {\n",
       "        text-align: right;\n",
       "    }\n",
       "</style>\n",
       "<table border=\"1\" class=\"dataframe\">\n",
       "  <thead>\n",
       "    <tr style=\"text-align: right;\">\n",
       "      <th></th>\n",
       "      <th>Duration</th>\n",
       "      <th>Start date</th>\n",
       "      <th>End date</th>\n",
       "      <th>Start station number</th>\n",
       "      <th>Start station</th>\n",
       "      <th>End station number</th>\n",
       "      <th>End station</th>\n",
       "      <th>Bike number</th>\n",
       "      <th>Member type</th>\n",
       "      <th>Day of week</th>\n",
       "    </tr>\n",
       "  </thead>\n",
       "  <tbody>\n",
       "    <tr>\n",
       "      <th>0</th>\n",
       "      <td>230</td>\n",
       "      <td>2019-01-01 00:04:48</td>\n",
       "      <td>2019-01-01 00:08:39</td>\n",
       "      <td>31203</td>\n",
       "      <td>14th &amp; Rhode Island Ave NW</td>\n",
       "      <td>31200</td>\n",
       "      <td>Massachusetts Ave &amp; Dupont Circle NW</td>\n",
       "      <td>E00141</td>\n",
       "      <td>1</td>\n",
       "      <td>2</td>\n",
       "    </tr>\n",
       "    <tr>\n",
       "      <th>1</th>\n",
       "      <td>1549</td>\n",
       "      <td>2019-01-01 00:06:37</td>\n",
       "      <td>2019-01-01 00:32:27</td>\n",
       "      <td>31321</td>\n",
       "      <td>15th St &amp; Constitution Ave NW</td>\n",
       "      <td>31114</td>\n",
       "      <td>18th St &amp; Wyoming Ave NW</td>\n",
       "      <td>W24067</td>\n",
       "      <td>0</td>\n",
       "      <td>2</td>\n",
       "    </tr>\n",
       "    <tr>\n",
       "      <th>2</th>\n",
       "      <td>177</td>\n",
       "      <td>2019-01-01 00:08:46</td>\n",
       "      <td>2019-01-01 00:11:44</td>\n",
       "      <td>31104</td>\n",
       "      <td>Adams Mill &amp; Columbia Rd NW</td>\n",
       "      <td>31323</td>\n",
       "      <td>Woodley Park Metro / Calvert St &amp; Connecticut ...</td>\n",
       "      <td>W22654</td>\n",
       "      <td>0</td>\n",
       "      <td>2</td>\n",
       "    </tr>\n",
       "    <tr>\n",
       "      <th>3</th>\n",
       "      <td>228</td>\n",
       "      <td>2019-01-01 00:08:47</td>\n",
       "      <td>2019-01-01 00:12:35</td>\n",
       "      <td>31281</td>\n",
       "      <td>8th &amp; O St NW</td>\n",
       "      <td>31280</td>\n",
       "      <td>11th &amp; S St NW</td>\n",
       "      <td>W22336</td>\n",
       "      <td>1</td>\n",
       "      <td>2</td>\n",
       "    </tr>\n",
       "    <tr>\n",
       "      <th>4</th>\n",
       "      <td>1300</td>\n",
       "      <td>2019-01-01 00:12:29</td>\n",
       "      <td>2019-01-01 00:34:10</td>\n",
       "      <td>31014</td>\n",
       "      <td>Lynn &amp; 19th St North</td>\n",
       "      <td>31923</td>\n",
       "      <td>Columbia Pike &amp; S Taylor St</td>\n",
       "      <td>70004</td>\n",
       "      <td>1</td>\n",
       "      <td>2</td>\n",
       "    </tr>\n",
       "  </tbody>\n",
       "</table>\n",
       "</div>"
      ],
      "text/plain": [
       "   Duration           Start date             End date  Start station number  \\\n",
       "0       230  2019-01-01 00:04:48  2019-01-01 00:08:39                 31203   \n",
       "1      1549  2019-01-01 00:06:37  2019-01-01 00:32:27                 31321   \n",
       "2       177  2019-01-01 00:08:46  2019-01-01 00:11:44                 31104   \n",
       "3       228  2019-01-01 00:08:47  2019-01-01 00:12:35                 31281   \n",
       "4      1300  2019-01-01 00:12:29  2019-01-01 00:34:10                 31014   \n",
       "\n",
       "                   Start station  End station number  \\\n",
       "0     14th & Rhode Island Ave NW               31200   \n",
       "1  15th St & Constitution Ave NW               31114   \n",
       "2    Adams Mill & Columbia Rd NW               31323   \n",
       "3                  8th & O St NW               31280   \n",
       "4           Lynn & 19th St North               31923   \n",
       "\n",
       "                                         End station Bike number  Member type  \\\n",
       "0               Massachusetts Ave & Dupont Circle NW      E00141            1   \n",
       "1                           18th St & Wyoming Ave NW      W24067            0   \n",
       "2  Woodley Park Metro / Calvert St & Connecticut ...      W22654            0   \n",
       "3                                     11th & S St NW      W22336            1   \n",
       "4                        Columbia Pike & S Taylor St       70004            1   \n",
       "\n",
       "   Day of week  \n",
       "0            2  \n",
       "1            2  \n",
       "2            2  \n",
       "3            2  \n",
       "4            2  "
      ]
     },
     "execution_count": 7,
     "metadata": {},
     "output_type": "execute_result"
    }
   ],
   "source": [
    "#weekday\n",
    "bikeshare['Day of week'] = pd.to_datetime(bikeshare['Start date'], format='%Y-%m-%d %H:%M:%S').dt.day_name()\n",
    "cleanup_nums = {\"Day of week\": {\"Monday\": 1 , \"Tuesday\": 2, \"Wednesday\" : 3, \"Thursday\": 4, \"Friday\": 5, \"Saturday\":6, \"Sunday\":7 }}\n",
    "bikeshare = bikeshare.replace(cleanup_nums)\n",
    "bikeshare.head()"
   ]
  },
  {
   "cell_type": "code",
   "execution_count": 8,
   "metadata": {},
   "outputs": [
    {
     "data": {
      "text/html": [
       "<div>\n",
       "<style scoped>\n",
       "    .dataframe tbody tr th:only-of-type {\n",
       "        vertical-align: middle;\n",
       "    }\n",
       "\n",
       "    .dataframe tbody tr th {\n",
       "        vertical-align: top;\n",
       "    }\n",
       "\n",
       "    .dataframe thead th {\n",
       "        text-align: right;\n",
       "    }\n",
       "</style>\n",
       "<table border=\"1\" class=\"dataframe\">\n",
       "  <thead>\n",
       "    <tr style=\"text-align: right;\">\n",
       "      <th></th>\n",
       "      <th>Duration</th>\n",
       "      <th>Start date</th>\n",
       "      <th>End date</th>\n",
       "      <th>Start station number</th>\n",
       "      <th>Start station</th>\n",
       "      <th>End station number</th>\n",
       "      <th>End station</th>\n",
       "      <th>Bike number</th>\n",
       "      <th>Member type</th>\n",
       "      <th>Day of week</th>\n",
       "      <th>Season</th>\n",
       "    </tr>\n",
       "  </thead>\n",
       "  <tbody>\n",
       "    <tr>\n",
       "      <th>0</th>\n",
       "      <td>230</td>\n",
       "      <td>2019-01-01 00:04:48</td>\n",
       "      <td>2019-01-01 00:08:39</td>\n",
       "      <td>31203</td>\n",
       "      <td>14th &amp; Rhode Island Ave NW</td>\n",
       "      <td>31200</td>\n",
       "      <td>Massachusetts Ave &amp; Dupont Circle NW</td>\n",
       "      <td>E00141</td>\n",
       "      <td>1</td>\n",
       "      <td>2</td>\n",
       "      <td>1</td>\n",
       "    </tr>\n",
       "    <tr>\n",
       "      <th>1</th>\n",
       "      <td>1549</td>\n",
       "      <td>2019-01-01 00:06:37</td>\n",
       "      <td>2019-01-01 00:32:27</td>\n",
       "      <td>31321</td>\n",
       "      <td>15th St &amp; Constitution Ave NW</td>\n",
       "      <td>31114</td>\n",
       "      <td>18th St &amp; Wyoming Ave NW</td>\n",
       "      <td>W24067</td>\n",
       "      <td>0</td>\n",
       "      <td>2</td>\n",
       "      <td>1</td>\n",
       "    </tr>\n",
       "    <tr>\n",
       "      <th>2</th>\n",
       "      <td>177</td>\n",
       "      <td>2019-01-01 00:08:46</td>\n",
       "      <td>2019-01-01 00:11:44</td>\n",
       "      <td>31104</td>\n",
       "      <td>Adams Mill &amp; Columbia Rd NW</td>\n",
       "      <td>31323</td>\n",
       "      <td>Woodley Park Metro / Calvert St &amp; Connecticut ...</td>\n",
       "      <td>W22654</td>\n",
       "      <td>0</td>\n",
       "      <td>2</td>\n",
       "      <td>1</td>\n",
       "    </tr>\n",
       "    <tr>\n",
       "      <th>3</th>\n",
       "      <td>228</td>\n",
       "      <td>2019-01-01 00:08:47</td>\n",
       "      <td>2019-01-01 00:12:35</td>\n",
       "      <td>31281</td>\n",
       "      <td>8th &amp; O St NW</td>\n",
       "      <td>31280</td>\n",
       "      <td>11th &amp; S St NW</td>\n",
       "      <td>W22336</td>\n",
       "      <td>1</td>\n",
       "      <td>2</td>\n",
       "      <td>1</td>\n",
       "    </tr>\n",
       "    <tr>\n",
       "      <th>4</th>\n",
       "      <td>1300</td>\n",
       "      <td>2019-01-01 00:12:29</td>\n",
       "      <td>2019-01-01 00:34:10</td>\n",
       "      <td>31014</td>\n",
       "      <td>Lynn &amp; 19th St North</td>\n",
       "      <td>31923</td>\n",
       "      <td>Columbia Pike &amp; S Taylor St</td>\n",
       "      <td>70004</td>\n",
       "      <td>1</td>\n",
       "      <td>2</td>\n",
       "      <td>1</td>\n",
       "    </tr>\n",
       "  </tbody>\n",
       "</table>\n",
       "</div>"
      ],
      "text/plain": [
       "   Duration           Start date             End date  Start station number  \\\n",
       "0       230  2019-01-01 00:04:48  2019-01-01 00:08:39                 31203   \n",
       "1      1549  2019-01-01 00:06:37  2019-01-01 00:32:27                 31321   \n",
       "2       177  2019-01-01 00:08:46  2019-01-01 00:11:44                 31104   \n",
       "3       228  2019-01-01 00:08:47  2019-01-01 00:12:35                 31281   \n",
       "4      1300  2019-01-01 00:12:29  2019-01-01 00:34:10                 31014   \n",
       "\n",
       "                   Start station  End station number  \\\n",
       "0     14th & Rhode Island Ave NW               31200   \n",
       "1  15th St & Constitution Ave NW               31114   \n",
       "2    Adams Mill & Columbia Rd NW               31323   \n",
       "3                  8th & O St NW               31280   \n",
       "4           Lynn & 19th St North               31923   \n",
       "\n",
       "                                         End station Bike number  Member type  \\\n",
       "0               Massachusetts Ave & Dupont Circle NW      E00141            1   \n",
       "1                           18th St & Wyoming Ave NW      W24067            0   \n",
       "2  Woodley Park Metro / Calvert St & Connecticut ...      W22654            0   \n",
       "3                                     11th & S St NW      W22336            1   \n",
       "4                        Columbia Pike & S Taylor St       70004            1   \n",
       "\n",
       "   Day of week  Season  \n",
       "0            2       1  \n",
       "1            2       1  \n",
       "2            2       1  \n",
       "3            2       1  \n",
       "4            2       1  "
      ]
     },
     "execution_count": 8,
     "metadata": {},
     "output_type": "execute_result"
    }
   ],
   "source": [
    "#season\n",
    "bikeshare['Season'] = pd.to_datetime(bikeshare['Start date'], format='%Y-%m-%d %H:%M:%S').dt.month_name()\n",
    "cleanup_nums = {\"Season\": {\"January\": 1 , \"February\": 1, \"March\" : 1, \"April\": 2, \"May\": 2, \"June\": 2, \"July\":3 ,\n",
    "                          \"August\" : 3, \"September\": 3, \"October\": 4, \"November\" : 4, \"December\": 4}}\n",
    "bikeshare = bikeshare.replace(cleanup_nums)\n",
    "bikeshare.head()"
   ]
  },
  {
   "cell_type": "markdown",
   "metadata": {
    "id": "0kvDukQY_MOT"
   },
   "source": [
    "#### 7) Describe the features in your dataset."
   ]
  },
  {
   "cell_type": "markdown",
   "metadata": {
    "id": "ccp6_xtTFV_J"
   },
   "source": [
    "We added three features: \n",
    "- member type: 0 for Casual and 1 for Member. We convert the categorical value into binary, and this will help us better to understand the relationship with duration .\n",
    "- Day of week: we extract day from the start date and turn it into day of week. We encode by stating Monday as 1 and vice versa, Sunday with 7. With the day of week variable, we can analyze the duration change within the week.\n",
    "- Season: we extract month from the start date and encode it into season. We put spring months in 1 and vice versa, winter months as 4. "
   ]
  },
  {
   "cell_type": "markdown",
   "metadata": {
    "id": "TpHvVRWLFV_N"
   },
   "source": [
    "Next, let's focus on what you're trying to predict. First, let's see what the potential outcomes look like."
   ]
  },
  {
   "cell_type": "code",
   "execution_count": 9,
   "metadata": {
    "id": "_sffSMwfFV_N"
   },
   "outputs": [
    {
     "data": {
      "text/plain": [
       "array([   60,    61,    62, ..., 86289, 86351, 86365], dtype=int64)"
      ]
     },
     "execution_count": 9,
     "metadata": {},
     "output_type": "execute_result"
    }
   ],
   "source": [
    "import numpy as np\n",
    "\n",
    "np.unique(y)"
   ]
  },
  {
   "cell_type": "markdown",
   "metadata": {
    "id": "B4K9ymaUFV_Q"
   },
   "source": [
    "#### 8) Is your dataset suitable for a regression or classification task? Explain."
   ]
  },
  {
   "cell_type": "markdown",
   "metadata": {
    "id": "LGM97EwNFV_R"
   },
   "source": [
    "The dataset is suitable for a regression analysis. Our y, the predicting variable is a continuous variable. We want to find the correlations between dependent variable (duration)and independent variables(the rest of the data).  "
   ]
  },
  {
   "cell_type": "markdown",
   "metadata": {
    "id": "ZftGGzDOFV_R"
   },
   "source": [
    "Now, we'll standardize our data as follows. The data matrix $X$ should be a numpy 2d array in $\\mathbb{R}^{m\\times n}$. The labels should be a numpy 1d array in $\\mathbb{R}^m$. $m$ is the number of examples and $n$ is the number of features. **You will be training your supervised classifer on the features, which might not include all (or any) of the raw data**. This is a decision you will make when creating your dataset.\n",
    "<br /><br />\n",
    "Note: this is the format we're looking for your data to be in when you submit your dataset (i.e. $X\\in\\mathbb{R}^{m\\times n}$ and $y\\in\\mathbb{R}^m$ and are both numpy arrays)."
   ]
  },
  {
   "cell_type": "code",
   "execution_count": 10,
   "metadata": {
    "id": "wr0fOeO4FV_S"
   },
   "outputs": [],
   "source": [
    "# # Now, using your numerical features from the previous step, you can construct the dataset.\n",
    "# # Depending on what your raw data was (i.e. if any field was numerical), you may include this in the final dataset\n",
    "# # or you may just use the features you created. \n",
    "\n",
    "# # Using the dictionary from above (doc_id -> {sentence, features}) the dataset can be constructed\n",
    "# import numpy as np\n",
    "\n",
    "# X = np.array([np.array(doc.features.values()) for doc in X.values()])\n",
    "# y = np.array(y) # assume y was a list of binary labels previously\n",
    "\n",
    "#######################################################\n",
    "# TODO: Convert X and y to numpy arrays with appropriate dimensions\n",
    "import numpy as np\n",
    "X = bikeshare[['Member type','Day of week','Season']].to_numpy()\n",
    "y = bikeshare[['Duration']].to_numpy()\n",
    "#######################################################"
   ]
  },
  {
   "cell_type": "code",
   "execution_count": 11,
   "metadata": {},
   "outputs": [
    {
     "data": {
      "text/plain": [
       "array([[1, 2, 1],\n",
       "       [0, 2, 1],\n",
       "       [0, 2, 1],\n",
       "       ...,\n",
       "       [1, 2, 4],\n",
       "       [1, 2, 4],\n",
       "       [1, 2, 4]], dtype=int64)"
      ]
     },
     "execution_count": 11,
     "metadata": {},
     "output_type": "execute_result"
    }
   ],
   "source": [
    "X"
   ]
  },
  {
   "cell_type": "code",
   "execution_count": 12,
   "metadata": {},
   "outputs": [
    {
     "data": {
      "text/plain": [
       "array([[ 230],\n",
       "       [1549],\n",
       "       [ 177],\n",
       "       ...,\n",
       "       [ 389],\n",
       "       [ 962],\n",
       "       [ 183]], dtype=int64)"
      ]
     },
     "execution_count": 12,
     "metadata": {},
     "output_type": "execute_result"
    }
   ],
   "source": [
    "y"
   ]
  },
  {
   "cell_type": "markdown",
   "metadata": {
    "id": "otLeZuuXFV_V"
   },
   "source": [
    "If you have a classification dataset, let's look at class balance. This tells us how many examples we have for each label."
   ]
  },
  {
   "cell_type": "code",
   "execution_count": 13,
   "metadata": {
    "id": "mpg27X_XFV_V"
   },
   "outputs": [],
   "source": [
    "# for i in np.unique(y):\n",
    "#     print(f'{len(y[y==i])} examples of class {i}')"
   ]
  },
  {
   "cell_type": "markdown",
   "metadata": {
    "id": "o_ecYJ4xFV_Y"
   },
   "source": [
    "#### 9) Classification: Is your dataset balanced or imbalanced?\n",
    "\n",
    "\n",
    "Regression: How are your labels distributed? Normal distrbution? Uniform within a range? etc."
   ]
  },
  {
   "cell_type": "code",
   "execution_count": 14,
   "metadata": {
    "id": "Gin5wkqFFV_Y"
   },
   "outputs": [
    {
     "data": {
      "image/png": "[encoded data removed]",
      "text/plain": [
       "<Figure size 432x288 with 1 Axes>"
      ]
     },
     "metadata": {
      "needs_background": "light"
     },
     "output_type": "display_data"
    }
   ],
   "source": [
    "import matplotlib.pyplot as plt\n",
    "plt.hist(bikeshare['Duration'])\n",
    "plt.show()"
   ]
  },
  {
   "cell_type": "code",
   "execution_count": 15,
   "metadata": {},
   "outputs": [
    {
     "name": "stdout",
     "output_type": "stream",
     "text": [
      "count    3.398417e+06\n",
      "mean     1.069698e+03\n",
      "std      2.205485e+03\n",
      "min      6.000000e+01\n",
      "25%      3.960000e+02\n",
      "50%      6.800000e+02\n",
      "75%      1.152000e+03\n",
      "max      8.636500e+04\n",
      "Name: Duration, dtype: float64\n"
     ]
    }
   ],
   "source": [
    "print(bikeshare['Duration'].describe())"
   ]
  },
  {
   "cell_type": "code",
   "execution_count": 16,
   "metadata": {},
   "outputs": [
    {
     "name": "stdout",
     "output_type": "stream",
     "text": [
      "Highest allowed 7686.153074434254\n",
      "Lowest allowed -5546.756937938939\n"
     ]
    }
   ],
   "source": [
    "print(\"Highest allowed\",bikeshare['Duration'].mean() + 3*bikeshare['Duration'].std())\n",
    "print(\"Lowest allowed\",bikeshare['Duration'].mean() - 3*bikeshare['Duration'].std())"
   ]
  },
  {
   "cell_type": "code",
   "execution_count": 17,
   "metadata": {},
   "outputs": [],
   "source": [
    "new_bikeshare = bikeshare[(bikeshare['Duration'] < 7687) & (bikeshare['Duration'] > 0)]"
   ]
  },
  {
   "cell_type": "code",
   "execution_count": 18,
   "metadata": {},
   "outputs": [
    {
     "data": {
      "image/png": "[encoded data removed]",
      "text/plain": [
       "<Figure size 432x288 with 1 Axes>"
      ]
     },
     "metadata": {
      "needs_background": "light"
     },
     "output_type": "display_data"
    }
   ],
   "source": [
    "plt.hist(new_bikeshare['Duration'])\n",
    "plt.show()"
   ]
  },
  {
   "cell_type": "markdown",
   "metadata": {},
   "source": [
    "The y variable is not normally distributed. It is right skewed to very large numbers on the right. After using the Inter-Quartile Range (IQR) proximity rule to remove the outliers, the distribution of y is still right skewed but our prediction will be more reliable since some extreme length of renting bikes might be problematic. "
   ]
  },
  {
   "cell_type": "markdown",
   "metadata": {
    "id": "NeSyM-x6FV_Z"
   },
   "source": [
    "Let's compute some statistics for the dataset."
   ]
  },
  {
   "cell_type": "code",
   "execution_count": 19,
   "metadata": {
    "id": "0B5593CnFV_a"
   },
   "outputs": [
    {
     "name": "stdout",
     "output_type": "stream",
     "text": [
      "Number of : 3398417\n",
      "Number of features per example: 3\n",
      "count    3.398417e+06\n",
      "mean     1.069698e+03\n",
      "std      2.205485e+03\n",
      "min      6.000000e+01\n",
      "25%      3.960000e+02\n",
      "50%      6.800000e+02\n",
      "75%      1.152000e+03\n",
      "max      8.636500e+04\n",
      "Name: Duration, dtype: float64\n"
     ]
    }
   ],
   "source": [
    "#######################################################\n",
    "print(f'Number of : {X.shape[0]}')\n",
    "print(f'Number of features per example: {X.shape[1]}')\n",
    "# there are many more that are relevant to the specific domain your data is in.\n",
    "# TODO: if applicable, please include any additional dataset statistics here\n",
    "#######################################################\n",
    "\n",
    "print(bikeshare['Duration'].describe())"
   ]
  },
  {
   "cell_type": "code",
   "execution_count": 20,
   "metadata": {},
   "outputs": [
    {
     "data": {
      "text/plain": [
       "3    1076914\n",
       "2    1035840\n",
       "4     722942\n",
       "1     562721\n",
       "Name: Season, dtype: int64"
      ]
     },
     "execution_count": 20,
     "metadata": {},
     "output_type": "execute_result"
    }
   ],
   "source": [
    "bikeshare['Season'].value_counts()"
   ]
  },
  {
   "cell_type": "code",
   "execution_count": 21,
   "metadata": {},
   "outputs": [
    {
     "data": {
      "text/plain": [
       "3    513457\n",
       "5    510515\n",
       "2    510178\n",
       "4    503090\n",
       "6    496048\n",
       "1    465170\n",
       "7    399959\n",
       "Name: Day of week, dtype: int64"
      ]
     },
     "execution_count": 21,
     "metadata": {},
     "output_type": "execute_result"
    }
   ],
   "source": [
    "bikeshare['Day of week'].value_counts()"
   ]
  },
  {
   "cell_type": "code",
   "execution_count": 22,
   "metadata": {},
   "outputs": [
    {
     "data": {
      "text/plain": [
       "1    2957256\n",
       "0     441161\n",
       "Name: Member type, dtype: int64"
      ]
     },
     "execution_count": 22,
     "metadata": {},
     "output_type": "execute_result"
    }
   ],
   "source": [
    "bikeshare['Member type'].value_counts()"
   ]
  },
  {
   "cell_type": "markdown",
   "metadata": {
    "id": "NXUdUevoORfr"
   },
   "source": [
    "#### 10) Do you have lots of high quality data? Explain limitations (if any) that exist in terms of data quantity and quality."
   ]
  },
  {
   "cell_type": "markdown",
   "metadata": {
    "id": "WmQGjl9JOiOk"
   },
   "source": [
    "Looking at the statistics we pulled above: we have a full year round of data to analysis, which is good because we can understand the seasonality here. "
   ]
  },
  {
   "cell_type": "markdown",
   "metadata": {
    "id": "ZGdroDhAUoiU"
   },
   "source": [
    "Data visualizations help us understand our data and draw insights. Just like there is no single ML algorithm that applies to every problem, there isn't a visualization that works for every dataset.\n",
    "<br /> <br />\n",
    "Instead, you will produce some visuals that you think tell an interesting story about your data. We will provide some suggestions, which you can use for inspiration. \n",
    "<br /> <br />\n",
    "\n",
    "Types of information you may wish to capture (this is by no means comprehensive):\n",
    "*   Missingness of data (consider using heat maps, scatter plots)\n",
    "*   Correlation of features (consider using a correlation matrix)\n",
    "*   Distribution of data (consider using historgrams, violin plots)\n",
    "*   Linear separability, if you have binary classification\n",
    "<br /> <br />\n",
    "\n",
    "Check out these visualization galleries for further inspiration and example code:\n",
    "*   [Seaborn](https://seaborn.pydata.org/examples/index.html)\n",
    "*   [Plotly](https://plotly.com/python/)\n",
    "*   [Python Graph Gallery](https://python-graph-gallery.com/)\n",
    "\n",
    "You should create **at least 1 visualization** for your dataset and explain what you learned about your data from it. Below is an example heatmap showing correlation of features from the sklearn iris dataset."
   ]
  },
  {
   "cell_type": "code",
   "execution_count": 23,
   "metadata": {
    "colab": {
     "base_uri": "https://localhost:8080/",
     "height": 347
    },
    "id": "OR77uBw_gI72",
    "outputId": "c3c2e48b-156c-408a-c320-9ed9e6730585"
   },
   "outputs": [
    {
     "data": {
      "text/plain": [
       "<AxesSubplot:xlabel='Day of week'>"
      ]
     },
     "execution_count": 23,
     "metadata": {},
     "output_type": "execute_result"
    },
    {
     "data": {
      "image/png": "[encoded data removed]",
      "text/plain": [
       "<Figure size 432x288 with 1 Axes>"
      ]
     },
     "metadata": {
      "needs_background": "light"
     },
     "output_type": "display_data"
    }
   ],
   "source": [
    "import numpy as np\n",
    "import seaborn as sns\n",
    "\n",
    "bikeshare[['Day of week', 'Duration']].groupby('Day of week').mean().plot(kind='bar', legend=None)"
   ]
  },
  {
   "cell_type": "markdown",
   "metadata": {},
   "source": [
    "- People may use rent bikes for a longer time during weekends than weekday. "
   ]
  },
  {
   "cell_type": "code",
   "execution_count": 24,
   "metadata": {
    "id": "LSbCeDaDFV_h"
   },
   "outputs": [
    {
     "data": {
      "text/plain": [
       "<AxesSubplot:xlabel='Season'>"
      ]
     },
     "execution_count": 24,
     "metadata": {},
     "output_type": "execute_result"
    },
    {
     "data": {
      "image/png": "[encoded data removed]",
      "text/plain": [
       "<Figure size 432x288 with 1 Axes>"
      ]
     },
     "metadata": {
      "needs_background": "light"
     },
     "output_type": "display_data"
    }
   ],
   "source": [
    "bikeshare[['Season', 'Duration']].groupby('Season').mean().plot(kind='bar', legend=None)"
   ]
  },
  {
   "cell_type": "markdown",
   "metadata": {},
   "source": [
    "- People spent more time in bike renting during summer and fall quarter. "
   ]
  },
  {
   "cell_type": "markdown",
   "metadata": {
    "id": "gb2f_TdIFV_j"
   },
   "source": [
    "#### 11) What insights do you gain from this visualization about your dataset?"
   ]
  },
  {
   "cell_type": "markdown",
   "metadata": {
    "id": "ma30TfvrFV_k"
   },
   "source": [
    "In conclusion, people may rent bikes for a longer time during weekends than weekday and spend more time in bikesharing during summer and fall quarter."
   ]
  },
  {
   "cell_type": "markdown",
   "metadata": {
    "id": "ByuJGGbJFV_k"
   },
   "source": [
    "## Part 3: Using your dataset\n",
    "\n",
    "Things to do in this part:\n",
    "1. Answer questions 12-13\n",
    "2. Perform a train-test split\n",
    "3. Train simple supervised learning algorithm on dataset"
   ]
  },
  {
   "cell_type": "markdown",
   "metadata": {
    "id": "abr91MAtFV_k"
   },
   "source": [
    "Now that you have created your dataset and explored some of its properties, you will use a supervised classifier to predict the outcome you definined in the problem statement. To evaluate how well this classifier predicts the outcomes, you will need to set some data aside for testing. First, you'll use sklearn to split the data into train and test sets, with 25% of the data reserved for testing."
   ]
  },
  {
   "cell_type": "code",
   "execution_count": 25,
   "metadata": {
    "id": "pvsUJRE7FV_l"
   },
   "outputs": [
    {
     "name": "stdout",
     "output_type": "stream",
     "text": [
      "Training examples: 2548812\n",
      "Testing examples{849605}\n"
     ]
    }
   ],
   "source": [
    "from sklearn.model_selection import train_test_split \n",
    "\n",
    "# Train Test Split\n",
    "X_train, X_test, y_train, y_test = train_test_split(X, y, test_size=0.25, random_state=0)\n",
    "print(f'Training examples: {X_train.shape[0]}\\nTesting examples{ {X_test.shape[0]}}')"
   ]
  },
  {
   "cell_type": "markdown",
   "metadata": {
    "id": "0CAu1ruKa-9C"
   },
   "source": [
    "Now, we'll save your train and test sets. Together, these four files will make up the dataset you submit on Gradescope. "
   ]
  },
  {
   "cell_type": "code",
   "execution_count": 26,
   "metadata": {
    "id": "QANcYHlobNNb"
   },
   "outputs": [
    {
     "name": "stderr",
     "output_type": "stream",
     "text": [
      "'zip' 不是内部或外部命令，也不是可运行的程序\n",
      "或批处理文件。\n"
     ]
    }
   ],
   "source": [
    "import numpy as np \n",
    "\n",
    "np.savetxt(\"X_train.csv\", X_train[0:1000], delimiter=\",\")\n",
    "np.savetxt(\"X_test.csv\", X_test[0:1000], delimiter=\",\")\n",
    "np.savetxt(\"y_train.csv\", y_train[0:1000], delimiter=\",\")\n",
    "np.savetxt(\"y_test.csv\", y_test[0:1000], delimiter=\",\")\n",
    "\n",
    "# zip together all components of your dataset\n",
    "!zip  homework1_dataset.zip X_train.csv X_test.csv y_train.csv y_test.csv"
   ]
  },
  {
   "cell_type": "markdown",
   "metadata": {
    "id": "cS9ISdLyFV_o"
   },
   "source": [
    "Now, let's train some classifiers or regression models. You are encouraged to try out multiple different algorithms, but only one is required. You are also encouraged to use popular packages such as [sklearn](https://scikit-learn.org/stable/modules/classes.html#module-sklearn.linear_model); you are not expected to implement any of these algorithms yourself. We have included sklearn's Logistic Regression and Linear Regression algorithms below as examples.\n",
    "<br /><br />\n",
    "Consider trying the following algorithms:\n",
    "<br />\n",
    "Classification: SVM, Decision Tree, Random Forest\n",
    "<br />\n",
    "Regression: Lasso, ridge regression"
   ]
  },
  {
   "cell_type": "code",
   "execution_count": 27,
   "metadata": {
    "id": "uRlJ86C8FV_o"
   },
   "outputs": [
    {
     "name": "stderr",
     "output_type": "stream",
     "text": [
      "<ipython-input-27-05fab380380d>:32: DataConversionWarning: A column-vector y was passed when a 1d array was expected. Please change the shape of y to (n_samples,), for example using ravel().\n",
      "  rf.fit(X_train, y_train)\n"
     ]
    }
   ],
   "source": [
    "# # If you have a classification problem, here is how to train a Logistic Regression classifier\n",
    "\n",
    "# from sklearn.linear_model import LogisticRegression\n",
    "\n",
    "# clf = LogisticRegression(random_state=0).fit(X_train, y_train)\n",
    "# y_hat = clf.predict(X_test)\n",
    "# accuracy = clf.score(X_test, y_test)\n",
    "# print(f'model accuracy is {accuracy}')\n",
    "\n",
    "# # If you have a regression problem, here is how to train a Linear Regression classifier\n",
    "\n",
    "# from sklearn.linear_model import LinearRegression\n",
    "\n",
    "# reg = LinearRegression().fit(X_train, y_train)\n",
    "# y_hat = reg.predict(X_test)\n",
    "# r_squared = reg.score(X_test, y_test)\n",
    "# print(f'Goodness of fit given by coefficient of determination is {r_squared}')\n",
    "\n",
    "#######################################################\n",
    "# TODO: Train at least one simple supervised learning algorithm on your dataset\n",
    "\n",
    "#######################################################\n",
    "#  linear regression\n",
    "from sklearn.linear_model import LinearRegression\n",
    "lr = LinearRegression()\n",
    "lr.fit(X_train, y_train)\n",
    "prediction_lr = lr.predict(X_test)\n",
    "\n",
    "# random forest regression\n",
    "from sklearn.ensemble import RandomForestRegressor\n",
    "rf = RandomForestRegressor()\n",
    "rf.fit(X_train, y_train)\n",
    "prediction_rf = rf.predict(X_test)"
   ]
  },
  {
   "cell_type": "markdown",
   "metadata": {
    "id": "geo8Kz4tOtLy"
   },
   "source": [
    "#### 12) How can you meaningfully evaluate results?  How was the performance of your model: did it meee?\n",
    "*Note:* if you trained more than one model above, you only need to answer this question for one of them."
   ]
  },
  {
   "cell_type": "code",
   "execution_count": 28,
   "metadata": {
    "id": "b3nzN7MtOz45"
   },
   "outputs": [
    {
     "name": "stdout",
     "output_type": "stream",
     "text": [
      "linear regression mse:  4605120.679935226\n",
      "random forest regression mse:  4595893.932621505\n"
     ]
    }
   ],
   "source": [
    "from sklearn.metrics import mean_squared_error\n",
    "mse_lr = mean_squared_error(y_test, prediction_lr)\n",
    "mse_rf = mean_squared_error(y_test, prediction_rf)\n",
    "print('linear regression mse: ', mse_lr)\n",
    "print('random forest regression mse: ', mse_rf)"
   ]
  },
  {
   "cell_type": "markdown",
   "metadata": {},
   "source": [
    "Since this is a regression model, I pull out the mean squared error for both of the model. The random forest regression model reduced the mean squared error than the linear regression model. "
   ]
  },
  {
   "cell_type": "markdown",
   "metadata": {
    "id": "fPIbEyVOPWsy"
   },
   "source": [
    "#### 13) In creating your dataset, what discussions did you have about the ethical implications of what you were collecting? Are there any potential issues with fairness?"
   ]
  },
  {
   "cell_type": "markdown",
   "metadata": {
    "id": "Gc-5zTUHPyyg"
   },
   "source": [
    "For ethical implications, those data involved the location details (start locations, destinations, etc.) and duration times of the bikeshare users that might be private for them without permission. And for fairness issues, from our perspective, the answer is no. "
   ]
  },
  {
   "cell_type": "markdown",
   "metadata": {
    "id": "ll5FhwgKx4K6"
   },
   "source": [
    "## Submit\n",
    "Great work! You're all done.\n",
    "\n",
    "Make sure to submit this Python notebook (as a PDF) and the dataset you created as a zip file. See the homework writeup for directions."
   ]
  },
  {
   "cell_type": "code",
   "execution_count": null,
   "metadata": {},
   "outputs": [],
   "source": []
  }
 ],
 "metadata": {
  "colab": {
   "collapsed_sections": [],
   "name": "CS475_homework1_lab_sp22.ipynb",
   "provenance": []
  },
  "kernelspec": {
   "display_name": "Python 3",
   "language": "python",
   "name": "python3"
  },
  "language_info": {
   "codemirror_mode": {
    "name": "ipython",
    "version": 3
   },
   "file_extension": ".py",
   "mimetype": "text/x-python",
   "name": "python",
   "nbconvert_exporter": "python",
   "pygments_lexer": "ipython3",
   "version": "3.8.8"
  },
  "toc": {
   "base_numbering": 1,
   "nav_menu": {},
   "number_sections": false,
   "sideBar": true,
   "skip_h1_title": false,
   "title_cell": "Table of Contents",
   "title_sidebar": "Contents",
   "toc_cell": false,
   "toc_position": {},
   "toc_section_display": true,
   "toc_window_display": false
  },
  "varInspector": {
   "cols": {
    "lenName": 16,
    "lenType": 16,
    "lenVar": 40
   },
   "kernels_config": {
    "python": {
     "delete_cmd_postfix": "",
     "delete_cmd_prefix": "del ",
     "library": "var_list.py",
     "varRefreshCmd": "print(var_dic_list())"
    },
    "r": {
     "delete_cmd_postfix": ") ",
     "delete_cmd_prefix": "rm(",
     "library": "var_list.r",
     "varRefreshCmd": "cat(var_dic_list()) "
    }
   },
   "types_to_exclude": [
    "module",
    "function",
    "builtin_function_or_method",
    "instance",
    "_Feature"
   ],
   "window_display": false
  }
 },
 "nbformat": 4,
 "nbformat_minor": 1
}
